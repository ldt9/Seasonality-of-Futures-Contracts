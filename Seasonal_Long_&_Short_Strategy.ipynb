{
  "nbformat": 4,
  "nbformat_minor": 0,
  "metadata": {
    "colab": {
      "provenance": [],
      "authorship_tag": "ABX9TyMky8jhUR0yFxNxdpnYhiGA",
      "include_colab_link": true
    },
    "kernelspec": {
      "name": "python3",
      "display_name": "Python 3"
    },
    "language_info": {
      "name": "python"
    }
  },
  "cells": [
    {
      "cell_type": "markdown",
      "metadata": {
        "id": "view-in-github",
        "colab_type": "text"
      },
      "source": [
        "<a href=\"https://colab.research.google.com/github/ldt9/Seasonality-of-Futures-Contracts/blob/main/Seasonal_Long_%26_Short_Strategy.ipynb\" target=\"_parent\"><img src=\"https://colab.research.google.com/assets/colab-badge.svg\" alt=\"Open In Colab\"/></a>"
      ]
    },
    {
      "cell_type": "markdown",
      "source": [
        "# **Import Libraries**"
      ],
      "metadata": {
        "id": "vLxk9AFrXKJJ"
      }
    },
    {
      "cell_type": "code",
      "source": [
        "!pip install yfinance\n",
        "!pip install finta\n",
        "!pip install statsmodels\n",
        "!pip install gitly\n",
        "!pip install -U kaleido"
      ],
      "metadata": {
        "colab": {
          "base_uri": "https://localhost:8080/"
        },
        "id": "Sz6ponTKYKzt",
        "outputId": "13eb1f8c-d947-47d3-8abb-d099c807caf6"
      },
      "execution_count": 33,
      "outputs": [
        {
          "output_type": "stream",
          "name": "stdout",
          "text": [
            "Looking in indexes: https://pypi.org/simple, https://us-python.pkg.dev/colab-wheels/public/simple/\n",
            "Requirement already satisfied: yfinance in /usr/local/lib/python3.7/dist-packages (0.1.89)\n",
            "Requirement already satisfied: numpy>=1.16.5 in /usr/local/lib/python3.7/dist-packages (from yfinance) (1.21.6)\n",
            "Requirement already satisfied: multitasking>=0.0.7 in /usr/local/lib/python3.7/dist-packages (from yfinance) (0.0.11)\n",
            "Requirement already satisfied: pandas>=1.3.0 in /usr/local/lib/python3.7/dist-packages (from yfinance) (1.3.5)\n",
            "Requirement already satisfied: appdirs>=1.4.4 in /usr/local/lib/python3.7/dist-packages (from yfinance) (1.4.4)\n",
            "Requirement already satisfied: requests>=2.26 in /usr/local/lib/python3.7/dist-packages (from yfinance) (2.28.1)\n",
            "Requirement already satisfied: pytz>=2017.3 in /usr/local/lib/python3.7/dist-packages (from pandas>=1.3.0->yfinance) (2022.6)\n",
            "Requirement already satisfied: python-dateutil>=2.7.3 in /usr/local/lib/python3.7/dist-packages (from pandas>=1.3.0->yfinance) (2.8.2)\n",
            "Requirement already satisfied: six>=1.5 in /usr/local/lib/python3.7/dist-packages (from python-dateutil>=2.7.3->pandas>=1.3.0->yfinance) (1.15.0)\n",
            "Requirement already satisfied: certifi>=2017.4.17 in /usr/local/lib/python3.7/dist-packages (from requests>=2.26->yfinance) (2022.9.24)\n",
            "Requirement already satisfied: idna<4,>=2.5 in /usr/local/lib/python3.7/dist-packages (from requests>=2.26->yfinance) (2.10)\n",
            "Requirement already satisfied: charset-normalizer<3,>=2 in /usr/local/lib/python3.7/dist-packages (from requests>=2.26->yfinance) (2.1.1)\n",
            "Requirement already satisfied: urllib3<1.27,>=1.21.1 in /usr/local/lib/python3.7/dist-packages (from requests>=2.26->yfinance) (1.24.3)\n",
            "Looking in indexes: https://pypi.org/simple, https://us-python.pkg.dev/colab-wheels/public/simple/\n",
            "Requirement already satisfied: finta in /usr/local/lib/python3.7/dist-packages (1.3)\n",
            "Requirement already satisfied: pandas in /usr/local/lib/python3.7/dist-packages (from finta) (1.3.5)\n",
            "Requirement already satisfied: numpy in /usr/local/lib/python3.7/dist-packages (from finta) (1.21.6)\n",
            "Requirement already satisfied: pytz>=2017.3 in /usr/local/lib/python3.7/dist-packages (from pandas->finta) (2022.6)\n",
            "Requirement already satisfied: python-dateutil>=2.7.3 in /usr/local/lib/python3.7/dist-packages (from pandas->finta) (2.8.2)\n",
            "Requirement already satisfied: six>=1.5 in /usr/local/lib/python3.7/dist-packages (from python-dateutil>=2.7.3->pandas->finta) (1.15.0)\n",
            "Looking in indexes: https://pypi.org/simple, https://us-python.pkg.dev/colab-wheels/public/simple/\n",
            "Requirement already satisfied: statsmodels in /usr/local/lib/python3.7/dist-packages (0.12.2)\n",
            "Requirement already satisfied: pandas>=0.21 in /usr/local/lib/python3.7/dist-packages (from statsmodels) (1.3.5)\n",
            "Requirement already satisfied: scipy>=1.1 in /usr/local/lib/python3.7/dist-packages (from statsmodels) (1.7.3)\n",
            "Requirement already satisfied: patsy>=0.5 in /usr/local/lib/python3.7/dist-packages (from statsmodels) (0.5.3)\n",
            "Requirement already satisfied: numpy>=1.15 in /usr/local/lib/python3.7/dist-packages (from statsmodels) (1.21.6)\n",
            "Requirement already satisfied: pytz>=2017.3 in /usr/local/lib/python3.7/dist-packages (from pandas>=0.21->statsmodels) (2022.6)\n",
            "Requirement already satisfied: python-dateutil>=2.7.3 in /usr/local/lib/python3.7/dist-packages (from pandas>=0.21->statsmodels) (2.8.2)\n",
            "Requirement already satisfied: six in /usr/local/lib/python3.7/dist-packages (from patsy>=0.5->statsmodels) (1.15.0)\n",
            "Looking in indexes: https://pypi.org/simple, https://us-python.pkg.dev/colab-wheels/public/simple/\n",
            "Requirement already satisfied: gitly in /usr/local/lib/python3.7/dist-packages (1.1.4)\n",
            "Requirement already satisfied: kaleido in /usr/local/lib/python3.7/dist-packages (from gitly) (0.1.0)\n",
            "Requirement already satisfied: plotly>=4.9.0 in /usr/local/lib/python3.7/dist-packages (from gitly) (5.5.0)\n",
            "Requirement already satisfied: tenacity>=6.2.0 in /usr/local/lib/python3.7/dist-packages (from plotly>=4.9.0->gitly) (8.1.0)\n",
            "Requirement already satisfied: six in /usr/local/lib/python3.7/dist-packages (from plotly>=4.9.0->gitly) (1.15.0)\n",
            "Looking in indexes: https://pypi.org/simple, https://us-python.pkg.dev/colab-wheels/public/simple/\n",
            "Requirement already satisfied: kaleido in /usr/local/lib/python3.7/dist-packages (0.1.0)\n",
            "Collecting kaleido\n",
            "  Using cached kaleido-0.2.1-py2.py3-none-manylinux1_x86_64.whl (79.9 MB)\n",
            "Installing collected packages: kaleido\n",
            "  Attempting uninstall: kaleido\n",
            "    Found existing installation: kaleido 0.1.0\n",
            "    Uninstalling kaleido-0.1.0:\n",
            "      Successfully uninstalled kaleido-0.1.0\n",
            "Successfully installed kaleido-0.2.1\n"
          ]
        }
      ]
    },
    {
      "cell_type": "code",
      "execution_count": 12,
      "metadata": {
        "id": "CSGwJ6nuW-rB"
      },
      "outputs": [],
      "source": [
        "from datetime import datetime, timedelta\n",
        "import sys\n",
        "import os\n",
        "import math\n",
        "import numpy as np\n",
        "import pandas as pd\n",
        "from pandas.tseries.holiday import USFederalHolidayCalendar\n",
        "from pandas.tseries.offsets import CustomBusinessDay\n",
        "US_BUSINESS_DAY = CustomBusinessDay(calendar = USFederalHolidayCalendar())\n",
        "import matplotlib.pyplot as plt\n",
        "import plotly.graph_objects as go\n",
        "from plotly.subplots import make_subplots\n",
        "import itertools\n",
        "import matplotlib.dates as mpl_dates\n",
        "import yfinance as yf\n",
        "from finta import TA\n",
        "from statsmodels.tsa.seasonal import seasonal_decompose\n",
        "from gitly.colab.plot import GitlyPlotter\n",
        "gitly = GitlyPlotter('github')\n",
        "gitly.config_render('github')"
      ]
    },
    {
      "cell_type": "markdown",
      "source": [
        "# ***Load Historic Data from Yahoo Finance***\n",
        "Note: col names need to be lowercase to be used as imputs for the finta library"
      ],
      "metadata": {
        "id": "yTpgQW0IYfJo"
      }
    },
    {
      "cell_type": "code",
      "source": [
        "def load_historic_data(symbol, start_date_str, today_date_str, period, interval, prepost):\n",
        "  try:\n",
        "    df = yf.download(symbol, start=start_date_str, end=today_date_str, period=period, interval=interval, prepost=prepost)\n",
        "    # Add Ticker\n",
        "    df[\"Symbol\"] = symbol\n",
        "    df['high'] = df['High']\n",
        "    df['low'] = df['Low']\n",
        "    df['open'] = df['Open']\n",
        "    df['close'] = df['Close']\n",
        "    df = pd.DataFrame(df, columns = ['open', 'low', 'high', 'close'])\n",
        "    return df\n",
        "  except:\n",
        "    print('Error loading stock data for ' + symbol)\n",
        "    return None"
      ],
      "metadata": {
        "id": "sdzg-IO2Ys4I"
      },
      "execution_count": 13,
      "outputs": []
    },
    {
      "cell_type": "markdown",
      "source": [
        "# ***Calculating Seasonality, Seasonal Highs & Lows, & Appending to DF***"
      ],
      "metadata": {
        "id": "Z-wZZYQUaLNV"
      }
    },
    {
      "cell_type": "code",
      "source": [
        "def calculate_tis(df):\n",
        "  # Calculate Seasonality\n",
        "  season, seasonLow, seasonHigh = seasonal(df)\n",
        "\n",
        "  # Add to Price df\n",
        "  df = pd.concat([df, season], axis=1, ignore_index=False)\n",
        "\n",
        "  return df, seasonLow, seasonHigh"
      ],
      "metadata": {
        "id": "LAyUPiaeaa5d"
      },
      "execution_count": 14,
      "outputs": []
    },
    {
      "cell_type": "markdown",
      "source": [
        "# ***Calculate Seasonality of Futures Contract***"
      ],
      "metadata": {
        "id": "StfbqErjjcNN"
      }
    },
    {
      "cell_type": "code",
      "source": [
        "#return buy trend periods and sell trend periods so algorithm only enter/exit longs in buy trends and enter/exit shorts in sell trends\n",
        "def seasonal(df):\n",
        "\n",
        "  # Debug\n",
        "  # display(df)\n",
        "\n",
        "  data = df.drop(columns=['open', 'high', 'low'], axis=1)\n",
        "\n",
        "  # Debug\n",
        "  # display(data)\n",
        "\n",
        "  decomposition = seasonal_decompose(data.close, model='multiplicative', period=52)\n",
        "  seasonal = decomposition.seasonal\n",
        "\n",
        "  # Extra Options from seasonal_decompose\n",
        "  # trend    = decomposition.trend\n",
        "  # residual = decomposition.resid\n",
        "\n",
        "  # These will later be used for entry and exit points\n",
        "  seasonalLow = min(seasonal)\n",
        "  seasonalHigh = max(seasonal)\n",
        "\n",
        "  return seasonal, seasonalLow, seasonalHigh\n"
      ],
      "metadata": {
        "id": "K_TBW0csjiah"
      },
      "execution_count": 15,
      "outputs": []
    },
    {
      "cell_type": "markdown",
      "source": [
        "# ***Calculate Entry and Exit Signals***\n",
        "\n",
        "Long Entry/Exit:\n",
        "*   The Seasonal Low will be our long entry signal\n",
        "*   The Seasonal High will be our long exit signal\n",
        "\n",
        "Short Entry/Exit:\n",
        "*   The Seasonal High will be our short entry signal\n",
        "*   The Seasonal Low will be our short exit signal.\n",
        "\n"
      ],
      "metadata": {
        "id": "IpxG7r-JbOUq"
      }
    },
    {
      "cell_type": "code",
      "source": [
        "def calculate_signals(df1, low, high, strat=\"\"):\n",
        "  #By default if 'strat' is left blank, long and short signals will be generated\n",
        "\n",
        "  if strat == \"LongOnly\":\n",
        "    df1['enter_long'] = np.where(df1['seasonal'] == low, 1, 0)\n",
        "    df1['exit_long'] = np.where(df1['seasonal'] == high, 1, 0)\n",
        "    df1['enter_short'] = 0\n",
        "    df1['exit_short'] = 0\n",
        "  elif strat == \"ShortOnly\":\n",
        "    df1['enter_long'] = 0\n",
        "    df1['exit_long'] = 0\n",
        "    df1['enter_short'] = np.where(df1['seasonal'] == high, 1, 0)\n",
        "    df1['exit_short'] = np.where(df1['seasonal'] == low, 1, 0)\n",
        "  else:\n",
        "    df1['enter_long'] = np.where(df1['seasonal'] == low, 1, 0)\n",
        "    df1['exit_long'] = np.where(df1['seasonal'] == high, 1, 0)\n",
        "    df1['enter_short'] = np.where(df1['seasonal'] == high, 1, 0)\n",
        "    df1['exit_short'] = np.where(df1['seasonal'] == low, 1, 0)\n",
        "\n",
        "  return df1"
      ],
      "metadata": {
        "id": "DspS6gdpbnst"
      },
      "execution_count": 16,
      "outputs": []
    },
    {
      "cell_type": "markdown",
      "source": [
        "# ***Strategy Execution***"
      ],
      "metadata": {
        "id": "AXwZvyZidgya"
      }
    },
    {
      "cell_type": "code",
      "source": [
        "def execute_strategy(df):\n",
        "    close_prices = df['close'].to_numpy()\n",
        "    enter_long = df['enter_long'].to_numpy()\n",
        "    exit_long = df['exit_long'].to_numpy()\n",
        "    enter_short = df['enter_short'].to_numpy()\n",
        "    exit_short = df['exit_short'].to_numpy()\n",
        "    \n",
        "    last_long_entry_price = 0\n",
        "    last_short_entry_price = 0\n",
        "    long_entry_prices = []\n",
        "    long_exit_prices = []\n",
        "    short_entry_prices = []\n",
        "    short_exit_prices = []\n",
        "    hold_long = 0\n",
        "    hold_short = 0\n",
        "\n",
        "    for i in range(len(close_prices)):\n",
        "        current_price = close_prices[i]\n",
        "        \n",
        "        #  Enter long \n",
        "        if hold_long == 0 and enter_long[i] == 1:\n",
        "            last_long_entry_price = current_price   # We are now Long at Current Price\n",
        "            long_entry_prices.append(current_price) # Record the Current entry price in the ledger\n",
        "            long_exit_prices.append(np.nan)         # We are not Exiting therefore no exit price\n",
        "            hold_long = 1                           # Hold long until next signal\n",
        "        #  Exit long\n",
        "        elif hold_long == 1 and exit_long[i] == 1:\n",
        "            long_entry_prices.append(np.nan)        # We are not Entering therefore no exit price\n",
        "            long_exit_prices.append(current_price)  # Record the Current exit price in the ledger\n",
        "            hold_long = 0                           # Remove the Long hold\n",
        "        else:\n",
        "            #  Neither entry nor exit\n",
        "            long_entry_prices.append(np.nan)        # We are not Entering therefore no exit price\n",
        "            long_exit_prices.append(np.nan)         # We are not Exiting therefore no exit price\n",
        "\n",
        "        #  Enter Short \n",
        "        if hold_short == 0 and enter_short[i] == 1:\n",
        "            last_short_entry_price = current_price\n",
        "            short_entry_prices.append(current_price)\n",
        "            short_exit_prices.append(np.nan)\n",
        "            hold_short = 1\n",
        "        #  Exit short\n",
        "        elif hold_short == 1 and exit_short[i] == 1:\n",
        "            short_entry_prices.append(np.nan)\n",
        "            short_exit_prices.append(current_price)\n",
        "            hold_short = 0\n",
        "        else:\n",
        "            #  Neither entry nor exit\n",
        "            short_entry_prices.append(np.nan)\n",
        "            short_exit_prices.append(np.nan)\n",
        "\n",
        "    return long_entry_prices, long_exit_prices, short_entry_prices, short_exit_prices"
      ],
      "metadata": {
        "id": "9dpCwUFcdlW5"
      },
      "execution_count": 17,
      "outputs": []
    },
    {
      "cell_type": "markdown",
      "source": [
        "# ***Plot the Results with Plotly***\n",
        "\n",
        "Use the Python Plotly library to display the closing price with entry and exit markers and below, in a separate graph, the Seasonality."
      ],
      "metadata": {
        "id": "cMOcx1GIg723"
      }
    },
    {
      "cell_type": "code",
      "source": [
        "def plot_graph(symbol, df, long_entry_prices, long_exit_prices, short_entry_prices, short_exit_prices, seasonHigh, seasonLow):\n",
        "  fig = make_subplots(rows=2, cols = 1, subplot_titles=['close', 'Seasonality'])\n",
        "\n",
        "  # Plot close price\n",
        "  fig.add_trace(go.Scatter(x=df.Date, y=df['close'], line=dict(color=\"blue\", width=2), name='Close'), row=1, col=1)\n",
        "\n",
        "  # Plot Seasonality\n",
        "  fig.add_trace(go.Scatter(x=df.Date, y=df['seasonal'], mode='lines', line=dict(color=\"blue\", width=2), name='Seasonality'), row=2, col=1)\n",
        "  fig.add_hline(y=seasonHigh, line=dict(color=\"green\", width=2), row=2, col=1)\n",
        "  fig.add_hline(y=seasonLow, line=dict(color=\"red\", width=2), row=2, col=1)\n",
        "\n",
        "  # Long Markers\n",
        "  fig.add_trace(go.Scatter(x=df.Date, y=long_entry_prices, mode='markers', marker_symbol=\"arrow-up\", marker=dict(color='green',size=9), name='Enter Long'))\n",
        "  fig.add_trace(go.Scatter(x=df.Date, y=long_exit_prices, mode='markers', marker_symbol=\"arrow-down\", marker=dict(color='red', size=9),name='Exit Long'))\n",
        "\n",
        "  #  Short markers\n",
        "  # fig.add_trace(go.Scatter(x=df.Date, y=short_entry_prices, marker_symbol=\"arrow-down\", marker=dict(color='#8eb028',size=9),mode='markers',name='Enter Short'))\n",
        "  # fig.add_trace(go.Scatter(x=df.Date, y=short_exit_prices, marker_symbol=\"arrow-up\", marker=dict(color='#7b32a8', size=9),mode='markers',name='Exit Short'))\n",
        "\n",
        "  fig.update_layout(\n",
        "      title={'text':f\"{symbol} with Seasonal Entries & Exits\", 'x':0.5},\n",
        "      autosize=False,\n",
        "      width=1000, height=800)\n",
        "  fig.update_yaxes(range=[0,1000000000],secondary_y=True)\n",
        "  fig.update_yaxes(visible=False, secondary_y=True) #hide range slider\n",
        "\n",
        "  # fig.show()\n",
        "  gitly.show(fig)\n",
        "  #fig.write_image('plot.png', format=\"png\")"
      ],
      "metadata": {
        "id": "Jng0ZERFhLfP"
      },
      "execution_count": 18,
      "outputs": []
    },
    {
      "cell_type": "markdown",
      "source": [
        "# ***Calculate Profit Made***\n"
      ],
      "metadata": {
        "id": "Bnf8HDjTl832"
      }
    },
    {
      "cell_type": "code",
      "source": [
        "def calculate_profit(start_investment, long_entry_prices, long_exit_prices, short_entry_prices, short_exit_prices):\n",
        "  hold_long, hold_short = 0, 0\n",
        "  available_funds = start_investment\n",
        "  cost_long, cost_short = 0, 0\n",
        "  num_stocks_long, num_stocks_short = 0, 0\n",
        "  proceeds_short = 0\n",
        "  profit = 0\n",
        "  for i in range(len(long_entry_prices)):\n",
        "      #  Go long\n",
        "      current_entry_price_long = long_entry_prices[i]\n",
        "      current_exit_price_long = long_exit_prices[i]\n",
        "      if not math.isnan(current_entry_price_long) and hold_long == 0:\n",
        "          num_stocks_long = available_funds / current_entry_price_long\n",
        "          cost_long = num_stocks_long * current_entry_price_long\n",
        "          hold_long = 1\n",
        "\n",
        "      elif hold_long == 1 and not math.isnan(current_exit_price_long):\n",
        "          hold_long = 0\n",
        "          proceeds = num_stocks_long * current_exit_price_long\n",
        "          profit += proceeds - cost_long\n",
        "\n",
        "      #  Go short\n",
        "      current_entry_price_short = short_entry_prices[i]\n",
        "      current_exit_price_short = short_exit_prices[i]\n",
        "      if not math.isnan(current_entry_price_short) and hold_short == 0:\n",
        "          num_stocks_short = available_funds / current_entry_price_short\n",
        "          proceeds_short = num_stocks_short * current_entry_price_short\n",
        "          hold_short = 1\n",
        "      elif hold_short == 1 and not math.isnan(current_exit_price_short):\n",
        "          hold_short = 0\n",
        "          cost_short = num_stocks_short * current_exit_price_short\n",
        "          profit += proceeds_short - cost_short\n",
        "\n",
        "  return math.trunc(profit)"
      ],
      "metadata": {
        "id": "vDlMmcOcmdo4"
      },
      "execution_count": 19,
      "outputs": []
    },
    {
      "cell_type": "markdown",
      "source": [
        "# ***Main Simulator***"
      ],
      "metadata": {
        "id": "0nLt9evhpl2f"
      }
    },
    {
      "cell_type": "code",
      "source": [
        "import warnings\n",
        "warnings.filterwarnings(\"ignore\", category=DeprecationWarning) # Don't want to update the code, hehehehehehe\n",
        "\n",
        "portfolio = ['CL=F', 'ZS=F', 'ZC=F', 'SI=F',    # Commodities\n",
        "             'KE=F', 'NG=F', 'HG=F', 'GC=F',\n",
        "             'ES=F', 'NQ=F', 'YM=F', 'RTY=F',   # Indexes\n",
        "             'ZN=F', 'ZB=F', 'ZF=F', 'ZT=F'     # Bonds\n",
        "             ]\n",
        "\n",
        "returns = []\n",
        "diff = []\n",
        "\n",
        "for i in range(len(portfolio)):\n",
        "  # Valid periods: 1d,5d,1mo,3mo,6mo,1y,2y,5y,10y,ytd,max\n",
        "  # Fetch data by interval (including intraday if period < 60 days)\n",
        "  # Valid intervals: 1m,2m,5m,15m,30m,60m,90m,1h,1d,5d,1wk,1mo,3mo\n",
        "  period = '1wk'\n",
        "  interval = '1wk'\n",
        "  prepost = False\n",
        "\n",
        "  today = datetime.today()\n",
        "  today_date_str = today.strftime(\"%Y-%m-%d\")\n",
        "  days = timedelta(days=7120)\n",
        "  start_date = today-days\n",
        "  start_date_str = datetime.strftime(start_date, \"%Y-%m-%d\")\n",
        "  df = load_historic_data(portfolio[i], start_date_str, today_date_str, period, interval, prepost)\n",
        "\n",
        "  start_investment = 25000\n",
        "\n",
        "  df = df.tail(400)\n",
        "  df.reset_index(inplace=True)\n",
        "  df, seasonLow, seasonHigh = calculate_tis(df)\n",
        "\n",
        "  seasonDiff = seasonHigh - seasonLow\n",
        "\n",
        "  if seasonDiff <= 0.04: # This filters out weak seasonal markets where we cannot make at least 8%\n",
        "    break\n",
        "\n",
        "  seasonDiff = str(round(seasonDiff*100)) + '%'\n",
        "  # display(seasonDiff)\n",
        "\n",
        "  df = calculate_signals(df, seasonLow, seasonHigh)\n",
        "\n",
        "  long_entry_prices, long_exit_prices, short_entry_prices, short_exit_prices = execute_strategy(df)\n",
        "\n",
        "\n",
        "\n",
        "  profit = calculate_profit(start_investment, long_entry_prices, long_exit_prices, short_entry_prices, short_exit_prices)\n",
        "  # print(f\"Total Profit: {profit}\")\n",
        "  \n",
        "  # debug\n",
        "  # display(df)\n",
        " \n",
        "  returns.append(profit/100)\n",
        "  diff.append(seasonDiff)\n",
        "\n",
        "  plot_graph(portfolio[i], df, long_entry_prices, long_exit_prices, short_entry_prices, short_exit_prices, seasonHigh, seasonLow)\n",
        "\n",
        "for i in range(len(returns)):\n",
        "  print(f\"{portfolio[i]} returned {returns[i]} with an average seasonal difference of {diff[i]}\")\n",
        "\n",
        "print(f\"Total Portfolio Return: {sum(returns)} or {sum(returns)/start_investment*100:.2f}% of {start_investment}\")"
      ],
      "metadata": {
        "id": "Vwzcssmbo1ss",
        "colab": {
          "base_uri": "https://localhost:8080/"
        },
        "outputId": "3ef13695-3b70-4e21-d83f-2ab0bba755b9"
      },
      "execution_count": 20,
      "outputs": [
        {
          "output_type": "stream",
          "name": "stdout",
          "text": [
            "[*********************100%***********************]  1 of 1 completed\n",
            "[*********************100%***********************]  1 of 1 completed\n",
            "[*********************100%***********************]  1 of 1 completed\n",
            "[*********************100%***********************]  1 of 1 completed\n",
            "[*********************100%***********************]  1 of 1 completed\n",
            "[*********************100%***********************]  1 of 1 completed\n",
            "[*********************100%***********************]  1 of 1 completed\n",
            "[*********************100%***********************]  1 of 1 completed\n",
            "[*********************100%***********************]  1 of 1 completed\n",
            "[*********************100%***********************]  1 of 1 completed\n",
            "[*********************100%***********************]  1 of 1 completed\n",
            "[*********************100%***********************]  1 of 1 completed\n",
            "[*********************100%***********************]  1 of 1 completed\n",
            "CL=F returned 174.95 with an average seasonal difference of 9%\n",
            "ZS=F returned 511.06 with an average seasonal difference of 11%\n",
            "ZC=F returned 813.03 with an average seasonal difference of 19%\n",
            "SI=F returned 352.92 with an average seasonal difference of 12%\n",
            "KE=F returned 613.21 with an average seasonal difference of 13%\n",
            "NG=F returned 1304.83 with an average seasonal difference of 28%\n",
            "HG=F returned 295.94 with an average seasonal difference of 8%\n",
            "GC=F returned 292.86 with an average seasonal difference of 8%\n",
            "ES=F returned 179.24 with an average seasonal difference of 6%\n",
            "NQ=F returned 239.97 with an average seasonal difference of 7%\n",
            "YM=F returned 385.47 with an average seasonal difference of 6%\n",
            "RTY=F returned 398.62 with an average seasonal difference of 10%\n",
            "Total Portfolio Return: 5562.1 or 22.25% of 25000\n"
          ]
        }
      ]
    }
  ]
}